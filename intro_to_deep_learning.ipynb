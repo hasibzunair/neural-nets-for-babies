{
  "cells": [
    {
      "cell_type": "markdown",
      "metadata": {
        "id": "view-in-github",
        "colab_type": "text"
      },
      "source": [
        "<a href=\"https://colab.research.google.com/github/hasibzunair/neural-nets-for-babies/blob/main/intro_to_deep_learning.ipynb\" target=\"_parent\"><img src=\"https://colab.research.google.com/assets/colab-badge.svg\" alt=\"Open In Colab\"/></a>"
      ]
    },
    {
      "cell_type": "markdown",
      "source": [
        "# Intro to Deep Learning (without PyTorch)\n",
        "\n",
        "**Author:** [Hasib Zunair](https://hasibzunair.github.io/)<br>\n",
        "**Date created:** 2022/02/12<br>\n",
        "**Last modified:** 2022/02/12<br>\n",
        "\n",
        "**Description:** This tutorial gives an intro to deep learning starting off from a single neuron and training a very simple net which identifies positive or negative pair of numbers.\n",
        "\n",
        "**Learning Objectives:**\n",
        "At the end of this tutorial, participants will be able to:\n",
        "\n",
        "* understand the general workflow of training neural networks\n",
        "* implement a small neural networks in pure NumPy"
      ],
      "metadata": {
        "id": "d7TlOys8Dn2O"
      },
      "id": "d7TlOys8Dn2O"
    },
    {
      "cell_type": "markdown",
      "id": "091a83d4-29ae-4732-aa04-6ab3d5739232",
      "metadata": {
        "id": "091a83d4-29ae-4732-aa04-6ab3d5739232"
      },
      "source": [
        "## Import libraries"
      ]
    },
    {
      "cell_type": "code",
      "execution_count": 1,
      "id": "4838da44-7905-44fd-b61f-5cbb3138baf5",
      "metadata": {
        "id": "4838da44-7905-44fd-b61f-5cbb3138baf5"
      },
      "outputs": [],
      "source": [
        "import numpy as np\n",
        "import matplotlib.pyplot as plt\n",
        "\n",
        "# Reproducibility\n",
        "np.random.seed(0)"
      ]
    },
    {
      "cell_type": "markdown",
      "id": "81a0585e-2da8-4118-9b1c-a32ef9935b1a",
      "metadata": {
        "id": "81a0585e-2da8-4118-9b1c-a32ef9935b1a"
      },
      "source": [
        "### Define an artifical neuron (Neo)"
      ]
    },
    {
      "cell_type": "code",
      "execution_count": 2,
      "id": "4b111959-17ca-4546-9146-f999c08d2a80",
      "metadata": {
        "id": "4b111959-17ca-4546-9146-f999c08d2a80"
      },
      "outputs": [],
      "source": [
        "def sigmoid(x):\n",
        "    \"\"\"\n",
        "    Sigmoid activation function.\n",
        "    f(x) = 1 / (1 + e^(-x))\n",
        "    \"\"\"\n",
        "    return 1 / (1 + np.exp(-x))\n",
        "\n",
        "class BabyNeuron:\n",
        "    \"\"\"\n",
        "    Implementation of one neuron.\n",
        "    \"\"\"\n",
        "    def __init__(self, weights, bias):\n",
        "        self.weights = weights\n",
        "        self.bias = bias\n",
        "\n",
        "    def forward(self, inputs):\n",
        "        \"\"\"\n",
        "        Multiply inputs with \"weights\", then \"activate\".\n",
        "        y = W * x + b\n",
        "        \"\"\"\n",
        "        total = np.dot(self.weights, inputs) + self.bias\n",
        "        return sigmoid(total)"
      ]
    },
    {
      "cell_type": "markdown",
      "id": "7c034318-1c4f-4821-88a3-57f85eb6c3c8",
      "metadata": {
        "id": "7c034318-1c4f-4821-88a3-57f85eb6c3c8"
      },
      "source": [
        "### Initialize it with a weight and a bias"
      ]
    },
    {
      "cell_type": "code",
      "execution_count": 3,
      "id": "2119e86b-cfaf-444c-a1b2-4fb1d4f4e352",
      "metadata": {
        "id": "2119e86b-cfaf-444c-a1b2-4fb1d4f4e352"
      },
      "outputs": [],
      "source": [
        "# Setup weights and bias (W and b)\n",
        "weights = np.array([0, 1]) # w1 = 0, w2 = 1\n",
        "bias = 4                   # b = 4\n",
        "\n",
        "# Create our baby neuron\n",
        "babynet = BabyNeuron(weights, bias)"
      ]
    },
    {
      "cell_type": "markdown",
      "id": "cfeeced3-c621-476b-b7f4-f8bd70b82a51",
      "metadata": {
        "id": "cfeeced3-c621-476b-b7f4-f8bd70b82a51"
      },
      "source": [
        "### Pass inputs to make predictions"
      ]
    },
    {
      "cell_type": "code",
      "execution_count": 4,
      "id": "a20bafa3-5842-423c-8eeb-477520e3430b",
      "metadata": {
        "colab": {
          "base_uri": "https://localhost:8080/"
        },
        "id": "a20bafa3-5842-423c-8eeb-477520e3430b",
        "outputId": "329770af-114c-4b6f-ec1c-05d06360fe57"
      },
      "outputs": [
        {
          "output_type": "stream",
          "name": "stdout",
          "text": [
            "Output: 0.99909\n"
          ]
        }
      ],
      "source": [
        "# Set inputs, x1 = 2 and x2 = 3\n",
        "x = np.array([2, 3])\n",
        "\n",
        "# Pass input x to babynet\n",
        "print(\"Output: {:.5f}\".format(babynet.forward(x)))\n",
        "# Should get 0.99908"
      ]
    },
    {
      "cell_type": "markdown",
      "id": "ae09b958-50c8-4980-b4bf-66877435e7cb",
      "metadata": {
        "id": "ae09b958-50c8-4980-b4bf-66877435e7cb"
      },
      "source": [
        "## Define a bigger network (more than one Neo!)"
      ]
    },
    {
      "cell_type": "code",
      "execution_count": 5,
      "id": "cd4a1adf-d8c7-4c6a-8f9f-5d76a3b533f7",
      "metadata": {
        "id": "cd4a1adf-d8c7-4c6a-8f9f-5d76a3b533f7"
      },
      "outputs": [],
      "source": [
        "class BigBaby:\n",
        "    \"\"\"\n",
        "    A \"network\" with:\n",
        "     - 2 inputs\n",
        "     - a hidden layer with 2 neurons (h1, h2)\n",
        "     - an output layer with 1 neuron (o1)\n",
        "    \n",
        "    Each neuron (i.e. BabyNeuron) has the same weight and bias:\n",
        "     - w = [0, 1]\n",
        "     - b = 0\n",
        "    \"\"\"\n",
        "    def __init__(self):\n",
        "        # We initialize using same weights and bias for each neuron\n",
        "        weights = np.array([0, 1])\n",
        "        bias = 0\n",
        "        # BabyNeuron class from previous section\n",
        "        self.h1 = BabyNeuron(weights, bias)\n",
        "        self.h2 = BabyNeuron(weights, bias)\n",
        "        self.o1 = BabyNeuron(weights, bias)\n",
        "\n",
        "    def forward(self, x):\n",
        "        out_h1 = self.h1.forward(x)\n",
        "        out_h2 = self.h2.forward(x)\n",
        "        # The inputs for o1 are the outputs from h1 and h2\n",
        "        out_o1 = self.o1.forward(np.array([out_h1, out_h2]))\n",
        "        return out_o1"
      ]
    },
    {
      "cell_type": "code",
      "execution_count": 6,
      "id": "deb48f3b-c5a2-4dd5-92c8-243858a4f0e7",
      "metadata": {
        "colab": {
          "base_uri": "https://localhost:8080/"
        },
        "id": "deb48f3b-c5a2-4dd5-92c8-243858a4f0e7",
        "outputId": "89295fa8-01f0-418b-d4e7-5f576f65f779"
      },
      "outputs": [
        {
          "output_type": "stream",
          "name": "stdout",
          "text": [
            "Output: 0.72163\n"
          ]
        }
      ],
      "source": [
        "# Create our BigBaby network\n",
        "network = BigBaby()\n",
        "\n",
        "# Set inputs, x1 = 2 and x2 = 3\n",
        "x = np.array([2, 3])\n",
        "\n",
        "# Pass input x to network and make predictions\n",
        "print(\"Output: {:.5f}\".format(network.forward(x)))\n",
        "# Should get 0.72163"
      ]
    },
    {
      "cell_type": "markdown",
      "id": "6797ae12-adff-49c9-b0d8-275d9ec6d5ed",
      "metadata": {
        "id": "6797ae12-adff-49c9-b0d8-275d9ec6d5ed"
      },
      "source": [
        "## How to train/optimize?\n",
        "\n",
        "It means to \"update\" parameters in such a way, that the \"loss\" is minimum. It means that the predictions made by the model\n",
        "and the ground truths are very similar. Which is what we want!\n",
        "\n",
        "A loss function (e.g. MSE) measures the guessed answers (i.e predictions) against the known correct answers (i.e ground truths) and measures how well or how badly it did."
      ]
    },
    {
      "cell_type": "code",
      "execution_count": 7,
      "id": "c3a9a55e-1e1c-4474-b374-95033de1bbff",
      "metadata": {
        "colab": {
          "base_uri": "https://localhost:8080/"
        },
        "id": "c3a9a55e-1e1c-4474-b374-95033de1bbff",
        "outputId": "70322526-2150-414d-d6b8-6b80b0737a7d"
      },
      "outputs": [
        {
          "output_type": "stream",
          "name": "stdout",
          "text": [
            "MSE: 0.500\n"
          ]
        }
      ],
      "source": [
        "def mse_loss(y_true, y_pred):\n",
        "    \"\"\"\n",
        "    Compute mean squared error of predictions and ground truths.\n",
        "    \"\"\"\n",
        "    return ((y_true - y_pred) ** 2).mean()\n",
        "\n",
        "def deriv_mse_loss(y_true, y_pred):\n",
        "    \"\"\"\n",
        "    Compute derivative of mean squared error of predictions and ground truths.\n",
        "    \"\"\"\n",
        "    return -2 * (y_true - y_pred)\n",
        "\n",
        "# define preds and ground truths (a.k.a labels, annotations, yada, yada, yada..)\n",
        "y_true = np.array([1, 0, 0, 1])\n",
        "y_pred = np.array([0, 0, 0, 0])\n",
        "\n",
        "# Compute MSE\n",
        "print(\"MSE: {:.3f}\".format(mse_loss(y_true, y_pred))) \n",
        "# Should get 0.5"
      ]
    },
    {
      "cell_type": "code",
      "source": [
        "def deriv_sigmoid(x):\n",
        "    \"\"\"\n",
        "    Derivative of sigmoid function.\n",
        "    f'(x) = f(x) * (1 - f(x))\n",
        "    \"\"\"\n",
        "    fx = sigmoid(x)\n",
        "    return fx * (1 - fx)"
      ],
      "metadata": {
        "id": "uk_Jn_o0GN6-"
      },
      "id": "uk_Jn_o0GN6-",
      "execution_count": 8,
      "outputs": []
    },
    {
      "cell_type": "code",
      "execution_count": 9,
      "id": "5ad282f0-8790-4fa5-809d-8af7df5bd94c",
      "metadata": {
        "id": "5ad282f0-8790-4fa5-809d-8af7df5bd94c"
      },
      "outputs": [],
      "source": [
        "# Just log the loss at each step, for visualization\n",
        "losses = []\n",
        "\n",
        "class BigBaby:\n",
        "    \"\"\"\n",
        "    A \"network\" with:\n",
        "     - 2 inputs\n",
        "     - a hidden layer with 2 neurons (h1, h2)\n",
        "     - an output layer with 1 neuron (o1)\n",
        "    \n",
        "    Each neuron (i.e. BabyNeuron) has the same weight and bias:\n",
        "     - w = [0, 1]\n",
        "     - b = 0\n",
        "    \"\"\"\n",
        "    def __init__(self):\n",
        "        # Weights\n",
        "        self.w1 = np.random.normal()\n",
        "        self.w2 = np.random.normal()\n",
        "        self.w3 = np.random.normal()\n",
        "        self.w4 = np.random.normal()\n",
        "        self.w5 = np.random.normal()\n",
        "        self.w6 = np.random.normal()\n",
        "\n",
        "        # Biases\n",
        "        self.b1 = np.random.normal()\n",
        "        self.b2 = np.random.normal()\n",
        "        self.b3 = np.random.normal()\n",
        "\n",
        "    def forward(self, x):\n",
        "        \"\"\"\n",
        "        Forward pass. x is a numpy array with 2 elements.\n",
        "        \"\"\"\n",
        "        # x is a numpy array with 2 elements.\n",
        "        h1 = sigmoid(self.w1 * x[0] + self.w2 * x[1] + self.b1)\n",
        "        h2 = sigmoid(self.w3 * x[0] + self.w4 * x[1] + self.b2)\n",
        "        o1 = sigmoid(self.w5 * h1 + self.w6 * h2 + self.b3)\n",
        "        return o1\n",
        "\n",
        "    def train(self, xs, ys):\n",
        "        \"\"\"\n",
        "        xs: is a (n x 2) numpy array, n = # of samples in the dataset.\n",
        "        ys: is a numpy array with n elements.\n",
        "        \"\"\"\n",
        "        learn_rate = 0.1\n",
        "        epochs = 1000 # number of time to go over the data (x,y)\n",
        "        \n",
        "        # Iterate over the dataset\n",
        "        for epoch in range(epochs):\n",
        "            # Iterate over each data point in the dataset, we have 4.\n",
        "            for x, y_true in zip(xs, ys):\n",
        "                \n",
        "                # STEP 1: FORWARD PASS\n",
        "                # first hidden neuron h1\n",
        "                sum_h1 = self.w1 * x[0] + self.w2 * x[1] + self.b1\n",
        "                h1 = sigmoid(sum_h1)\n",
        "                \n",
        "                # second hidden neuron h2\n",
        "                sum_h2 = self.w3 * x[0] + self.w4 * x[1] + self.b2\n",
        "                h2 = sigmoid(sum_h2)\n",
        "                \n",
        "                # output neuron, o1, which takes h1 and h2 as inputs\n",
        "                sum_o1 = self.w5 * h1 + self.w6 * h2 + self.b3\n",
        "                o1 = sigmoid(sum_o1)\n",
        "                \n",
        "                # Final output from network\n",
        "                y_pred = o1\n",
        "                \n",
        "                # NOTE: This is the famous backpropagation step. For now, just\n",
        "                # know that it is an efficient way of computing the derivatives which\n",
        "                # we need in order to update the weights and biases of our network.\n",
        "                \n",
        "                # Modern libraries do this step in the backend. We define only\n",
        "                # the forward pass while coding up neural nets. Imagine doing \n",
        "                # this for 100 layers! 🤯\n",
        "                ##############################################################\n",
        "                \n",
        "                # STEP 2: COMPUTE LOSS AND DERIVATIVES\n",
        "                # Compute partial derivatives with respect to loss\n",
        "                # NOTE: Since we are computing derivative wrt loss\n",
        "                # it is implied that we also compute loss! \n",
        "                d_L_d_ypred = deriv_mse_loss(y_true, y_pred)\n",
        "                \n",
        "                # output neuron, o1\n",
        "                d_ypred_d_w5 = h1 * deriv_sigmoid(sum_o1)\n",
        "                d_ypred_d_w6 = h2 * deriv_sigmoid(sum_o1)\n",
        "                d_ypred_d_b3 = deriv_sigmoid(sum_o1)\n",
        "\n",
        "                d_ypred_d_h1 = self.w5 * deriv_sigmoid(sum_o1)\n",
        "                d_ypred_d_h2 = self.w6 * deriv_sigmoid(sum_o1)\n",
        "\n",
        "                # first hidden neuron h1\n",
        "                d_h1_d_w1 = x[0] * deriv_sigmoid(sum_h1)\n",
        "                d_h1_d_w2 = x[1] * deriv_sigmoid(sum_h1)\n",
        "                d_h1_d_b1 = deriv_sigmoid(sum_h1)\n",
        "\n",
        "                # second hidden neuron h2\n",
        "                d_h2_d_w3 = x[0] * deriv_sigmoid(sum_h2)\n",
        "                d_h2_d_w4 = x[1] * deriv_sigmoid(sum_h2)\n",
        "                d_h2_d_b2 = deriv_sigmoid(sum_h2)\n",
        "                ##############################################################\n",
        "\n",
        "                # STEP 3: UPDATE PARAMETERS BY USING DERIVATIVES OF LOSS WRT\n",
        "                # WEIGHTS AND BIASES\n",
        "\n",
        "                # Update rule for weights and biases\n",
        "                # Formula: w_new = w_old - lr * d_L / d_w_old\n",
        "                \n",
        "                # first hidden neuron h1\n",
        "                self.w1 = self.w1 - learn_rate * d_L_d_ypred * d_ypred_d_h1 * d_h1_d_w1\n",
        "                self.w2 = self.w2 - learn_rate * d_L_d_ypred * d_ypred_d_h1 * d_h1_d_w2\n",
        "                self.b1 = self.b1 - learn_rate * d_L_d_ypred * d_ypred_d_h1 * d_h1_d_b1\n",
        "\n",
        "                # second hidden neuron h2\n",
        "                self.w3 = self.w3 - learn_rate * d_L_d_ypred * d_ypred_d_h2 * d_h2_d_w3\n",
        "                self.w4 = self.w4 - learn_rate * d_L_d_ypred * d_ypred_d_h2 * d_h2_d_w4\n",
        "                self.b2 = self.b2 - learn_rate * d_L_d_ypred * d_ypred_d_h2 * d_h2_d_b2\n",
        "\n",
        "                # output neuron, o1\n",
        "                self.w5 = self.w5 - learn_rate * d_L_d_ypred * d_ypred_d_w5\n",
        "                self.w6 = self.w6 - learn_rate * d_L_d_ypred * d_ypred_d_w6\n",
        "                self.b3 = self.b3 - learn_rate * d_L_d_ypred * d_ypred_d_b3\n",
        "            \n",
        "            # STEP 4: DO IT AGAIN. ALSO, LOG SOME VALUES\n",
        "            # Calculate loss at the end\n",
        "            if epoch % 10 == 0:\n",
        "                y_preds = np.apply_along_axis(self.forward, 1, xs)\n",
        "                loss = mse_loss(ys, y_preds)\n",
        "                print(\"Epoch {} ---- Loss {:.3f}\".format(epoch, loss))\n",
        "                losses.append(loss)"
      ]
    },
    {
      "cell_type": "markdown",
      "id": "33b98ff2-32db-45eb-ad4a-a833c7fb785f",
      "metadata": {
        "id": "33b98ff2-32db-45eb-ad4a-a833c7fb785f"
      },
      "source": [
        "## Define a dummy task\n",
        "We setup a simple task for which we want to neural net to identify positive and negative pair of numbers. We build a dataset of \"positive\" pairs as 1's and \"negative\" paris as 0's so that our neural network \"learns by example\"."
      ]
    },
    {
      "cell_type": "code",
      "execution_count": 10,
      "id": "81f0a8a0-220d-4973-8c49-d757157be26e",
      "metadata": {
        "colab": {
          "base_uri": "https://localhost:8080/"
        },
        "id": "81f0a8a0-220d-4973-8c49-d757157be26e",
        "outputId": "9794586a-dd8e-479a-f8c1-e96151fb6109"
      },
      "outputs": [
        {
          "output_type": "stream",
          "name": "stdout",
          "text": [
            "(4, 2) (4,)\n"
          ]
        }
      ],
      "source": [
        "# Define dataset\n",
        "xs = np.array([[-2, -1], [9, 6], [3, 4], [-5, -3]])\n",
        "ys = np.array([0, 1, 1, 0])\n",
        "\n",
        "# Check shape\n",
        "print(xs.shape, ys.shape)"
      ]
    },
    {
      "cell_type": "code",
      "execution_count": 11,
      "id": "bc354002-f589-4375-ba9a-023beda986fe",
      "metadata": {
        "colab": {
          "base_uri": "https://localhost:8080/"
        },
        "id": "bc354002-f589-4375-ba9a-023beda986fe",
        "outputId": "c99fa929-e734-4248-cd89-906bfb80d8af"
      },
      "outputs": [
        {
          "output_type": "stream",
          "name": "stdout",
          "text": [
            "Epoch 0 ---- Loss 0.162\n",
            "Epoch 10 ---- Loss 0.124\n",
            "Epoch 20 ---- Loss 0.098\n",
            "Epoch 30 ---- Loss 0.079\n",
            "Epoch 40 ---- Loss 0.065\n",
            "Epoch 50 ---- Loss 0.055\n",
            "Epoch 60 ---- Loss 0.047\n",
            "Epoch 70 ---- Loss 0.041\n",
            "Epoch 80 ---- Loss 0.036\n",
            "Epoch 90 ---- Loss 0.032\n",
            "Epoch 100 ---- Loss 0.029\n",
            "Epoch 110 ---- Loss 0.026\n",
            "Epoch 120 ---- Loss 0.024\n",
            "Epoch 130 ---- Loss 0.022\n",
            "Epoch 140 ---- Loss 0.020\n",
            "Epoch 150 ---- Loss 0.019\n",
            "Epoch 160 ---- Loss 0.017\n",
            "Epoch 170 ---- Loss 0.016\n",
            "Epoch 180 ---- Loss 0.015\n",
            "Epoch 190 ---- Loss 0.014\n",
            "Epoch 200 ---- Loss 0.014\n",
            "Epoch 210 ---- Loss 0.013\n",
            "Epoch 220 ---- Loss 0.012\n",
            "Epoch 230 ---- Loss 0.012\n",
            "Epoch 240 ---- Loss 0.011\n",
            "Epoch 250 ---- Loss 0.011\n",
            "Epoch 260 ---- Loss 0.010\n",
            "Epoch 270 ---- Loss 0.010\n",
            "Epoch 280 ---- Loss 0.009\n",
            "Epoch 290 ---- Loss 0.009\n",
            "Epoch 300 ---- Loss 0.009\n",
            "Epoch 310 ---- Loss 0.008\n",
            "Epoch 320 ---- Loss 0.008\n",
            "Epoch 330 ---- Loss 0.008\n",
            "Epoch 340 ---- Loss 0.008\n",
            "Epoch 350 ---- Loss 0.007\n",
            "Epoch 360 ---- Loss 0.007\n",
            "Epoch 370 ---- Loss 0.007\n",
            "Epoch 380 ---- Loss 0.007\n",
            "Epoch 390 ---- Loss 0.006\n",
            "Epoch 400 ---- Loss 0.006\n",
            "Epoch 410 ---- Loss 0.006\n",
            "Epoch 420 ---- Loss 0.006\n",
            "Epoch 430 ---- Loss 0.006\n",
            "Epoch 440 ---- Loss 0.006\n",
            "Epoch 450 ---- Loss 0.006\n",
            "Epoch 460 ---- Loss 0.005\n",
            "Epoch 470 ---- Loss 0.005\n",
            "Epoch 480 ---- Loss 0.005\n",
            "Epoch 490 ---- Loss 0.005\n",
            "Epoch 500 ---- Loss 0.005\n",
            "Epoch 510 ---- Loss 0.005\n",
            "Epoch 520 ---- Loss 0.005\n",
            "Epoch 530 ---- Loss 0.005\n",
            "Epoch 540 ---- Loss 0.004\n",
            "Epoch 550 ---- Loss 0.004\n",
            "Epoch 560 ---- Loss 0.004\n",
            "Epoch 570 ---- Loss 0.004\n",
            "Epoch 580 ---- Loss 0.004\n",
            "Epoch 590 ---- Loss 0.004\n",
            "Epoch 600 ---- Loss 0.004\n",
            "Epoch 610 ---- Loss 0.004\n",
            "Epoch 620 ---- Loss 0.004\n",
            "Epoch 630 ---- Loss 0.004\n",
            "Epoch 640 ---- Loss 0.004\n",
            "Epoch 650 ---- Loss 0.004\n",
            "Epoch 660 ---- Loss 0.004\n",
            "Epoch 670 ---- Loss 0.004\n",
            "Epoch 680 ---- Loss 0.003\n",
            "Epoch 690 ---- Loss 0.003\n",
            "Epoch 700 ---- Loss 0.003\n",
            "Epoch 710 ---- Loss 0.003\n",
            "Epoch 720 ---- Loss 0.003\n",
            "Epoch 730 ---- Loss 0.003\n",
            "Epoch 740 ---- Loss 0.003\n",
            "Epoch 750 ---- Loss 0.003\n",
            "Epoch 760 ---- Loss 0.003\n",
            "Epoch 770 ---- Loss 0.003\n",
            "Epoch 780 ---- Loss 0.003\n",
            "Epoch 790 ---- Loss 0.003\n",
            "Epoch 800 ---- Loss 0.003\n",
            "Epoch 810 ---- Loss 0.003\n",
            "Epoch 820 ---- Loss 0.003\n",
            "Epoch 830 ---- Loss 0.003\n",
            "Epoch 840 ---- Loss 0.003\n",
            "Epoch 850 ---- Loss 0.003\n",
            "Epoch 860 ---- Loss 0.003\n",
            "Epoch 870 ---- Loss 0.003\n",
            "Epoch 880 ---- Loss 0.003\n",
            "Epoch 890 ---- Loss 0.003\n",
            "Epoch 900 ---- Loss 0.003\n",
            "Epoch 910 ---- Loss 0.003\n",
            "Epoch 920 ---- Loss 0.002\n",
            "Epoch 930 ---- Loss 0.002\n",
            "Epoch 940 ---- Loss 0.002\n",
            "Epoch 950 ---- Loss 0.002\n",
            "Epoch 960 ---- Loss 0.002\n",
            "Epoch 970 ---- Loss 0.002\n",
            "Epoch 980 ---- Loss 0.002\n",
            "Epoch 990 ---- Loss 0.002\n"
          ]
        }
      ],
      "source": [
        "network = BigBaby()\n",
        "network.train(xs, ys)"
      ]
    },
    {
      "cell_type": "markdown",
      "id": "39cdcf6b-f4d3-40af-9f7c-7127df8914b1",
      "metadata": {
        "id": "39cdcf6b-f4d3-40af-9f7c-7127df8914b1"
      },
      "source": [
        "## Plot progress"
      ]
    },
    {
      "cell_type": "code",
      "execution_count": 12,
      "id": "054f63b9-6ff6-4158-869f-757000e6812f",
      "metadata": {
        "colab": {
          "base_uri": "https://localhost:8080/",
          "height": 279
        },
        "id": "054f63b9-6ff6-4158-869f-757000e6812f",
        "outputId": "1dbb70e4-5488-4cdf-fc90-92c2d43fa39b"
      },
      "outputs": [
        {
          "output_type": "display_data",
          "data": {
            "image/png": "[encoded data removed]",
            "text/plain": [
              "<Figure size 432x288 with 1 Axes>"
            ]
          },
          "metadata": {
            "needs_background": "light"
          }
        }
      ],
      "source": [
        "# Plot loss versus epochs\n",
        "epochs = range(len(losses))\n",
        "plt.plot(epochs, losses, 'r')\n",
        "plt.ylabel('Mean Square Error Loss')\n",
        "plt.xlabel('Epochs')\n",
        "plt.grid(True)\n",
        "\n",
        "# Show figure\n",
        "plt.show()"
      ]
    },
    {
      "cell_type": "markdown",
      "id": "943fd170-ae66-4a87-a00e-50607ec1dc88",
      "metadata": {
        "id": "943fd170-ae66-4a87-a00e-50607ec1dc88"
      },
      "source": [
        "## Make predictions"
      ]
    },
    {
      "cell_type": "code",
      "execution_count": 13,
      "id": "3c695264-ad04-424b-bf1d-a3f79635d0e1",
      "metadata": {
        "colab": {
          "base_uri": "https://localhost:8080/"
        },
        "id": "3c695264-ad04-424b-bf1d-a3f79635d0e1",
        "outputId": "dbf141ce-13d4-4f6b-ccdc-509244ea3e1c"
      },
      "outputs": [
        {
          "output_type": "stream",
          "name": "stdout",
          "text": [
            "Positive pair is identified as: 0.961\n",
            "Negative pair is identified as: 0.053\n"
          ]
        }
      ],
      "source": [
        "# Define positive and negative pair inputs\n",
        "pos = np.array([9, 9])\n",
        "neg = np.array([-1, -9])\n",
        "\n",
        "# Pass them to the \"trained\" model to make predictions\n",
        "print(\"Positive pair is identified as: {:.3f}\".format(network.forward(pos)))\n",
        "print(\"Negative pair is identified as: {:.3f}\".format(network.forward(neg)))"
      ]
    },
    {
      "cell_type": "markdown",
      "source": [
        "Happy Learning!"
      ],
      "metadata": {
        "id": "chIwpWtHGcrM"
      },
      "id": "chIwpWtHGcrM"
    }
  ],
  "metadata": {
    "kernelspec": {
      "display_name": "Python 3 (ipykernel)",
      "language": "python",
      "name": "python3"
    },
    "language_info": {
      "codemirror_mode": {
        "name": "ipython",
        "version": 3
      },
      "file_extension": ".py",
      "mimetype": "text/x-python",
      "name": "python",
      "nbconvert_exporter": "python",
      "pygments_lexer": "ipython3",
      "version": "3.8.11"
    },
    "colab": {
      "name": "intro_to_deep_learning.ipynb",
      "provenance": [],
      "collapsed_sections": [],
      "include_colab_link": true
    }
  },
  "nbformat": 4,
  "nbformat_minor": 5
}